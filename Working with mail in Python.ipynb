{
 "cells": [
  {
   "cell_type": "code",
   "execution_count": null,
   "metadata": {},
   "outputs": [],
   "source": [
    "import mailbox\n",
    "import quopri\n",
    "from email.header import decode_header\n",
    "from dateutil.parser import parse\n",
    "from bs4 import BeautifulSoup\n",
    "from urllib.parse import urlparse\n",
    "import re\n",
    "import pandas as pd\n",
    "from IPython.core.display import display, HTML"
   ]
  },
  {
   "cell_type": "code",
   "execution_count": null,
   "metadata": {},
   "outputs": [],
   "source": [
    "inbox = mailbox.mbox('inbox.mbox')"
   ]
  },
  {
   "cell_type": "code",
   "execution_count": null,
   "metadata": {},
   "outputs": [],
   "source": [
    "for message in inbox:\n",
    "    print(message[\"to\"])\n",
    "    print(message[\"from\"])\n",
    "    print(message[\"subject\"])\n",
    "    print()"
   ]
  },
  {
   "cell_type": "code",
   "execution_count": null,
   "metadata": {},
   "outputs": [],
   "source": [
    "def get_subject(subject):\n",
    "    subject_parts = []\n",
    "    subjects = decode_header(subject)\n",
    "    for content, encoding in subjects:\n",
    "        try: \n",
    "            subject_parts.append(content.decode(encoding or \"utf8\"))\n",
    "        except:\n",
    "            subject_parts.append(content)\n",
    "\n",
    "    return \"\".join(subject_parts)\n",
    "\n",
    "get_subject(\"=?UTF-8?B?VGhlcmXigJlz?= more to the story\")"
   ]
  },
  {
   "cell_type": "code",
   "execution_count": null,
   "metadata": {},
   "outputs": [],
   "source": [
    "parts = { part.get_content_type(): part for part in inbox[0].get_payload() }\n",
    "\n",
    "plain_content = parts[\"text/plain\"]\n",
    "html_content = parts[\"text/html\"]"
   ]
  },
  {
   "cell_type": "code",
   "execution_count": null,
   "metadata": {},
   "outputs": [],
   "source": [
    "print(plain_content.get_payload())"
   ]
  },
  {
   "cell_type": "code",
   "execution_count": null,
   "metadata": {},
   "outputs": [],
   "source": [
    "decoded = quopri.decodestring(plain_content.get_payload())\n",
    "\n",
    "print(decoded.decode(\"utf8\"))"
   ]
  },
  {
   "cell_type": "code",
   "execution_count": null,
   "metadata": {},
   "outputs": [],
   "source": [
    "encoded_html =  quopri.decodestring(html_content.get_payload())\n",
    "display(HTML(encoded_html.decode(\"utf8\")))"
   ]
  },
  {
   "cell_type": "code",
   "execution_count": null,
   "metadata": {},
   "outputs": [],
   "source": []
  }
 ],
 "metadata": {
  "kernelspec": {
   "display_name": "Python 3",
   "language": "python",
   "name": "python3"
  },
  "language_info": {
   "codemirror_mode": {
    "name": "ipython",
    "version": 3
   },
   "file_extension": ".py",
   "mimetype": "text/x-python",
   "name": "python",
   "nbconvert_exporter": "python",
   "pygments_lexer": "ipython3",
   "version": "3.6.9"
  }
 },
 "nbformat": 4,
 "nbformat_minor": 4
}
